{
 "cells": [
  {
   "cell_type": "code",
   "execution_count": 15,
   "id": "6f9f2778-1c74-4099-8352-b31caef273d2",
   "metadata": {},
   "outputs": [
    {
     "name": "stdout",
     "output_type": "stream",
     "text": [
      "x = 10\n",
      "y = 20\n"
     ]
    }
   ],
   "source": [
    "#Declare and initialize two variables\n",
    "x=20\n",
    "y=10\n",
    "#swap the values of variable without using any temporary variable\n",
    "x=x+y\n",
    "y=x-y\n",
    "x=x-y\n",
    "#now the values are changed\n",
    "print(\"x =\", x)\n",
    "print(\"y =\", y)\n"
   ]
  },
  {
   "cell_type": "code",
   "execution_count": 16,
   "id": "381cf451-580c-4cac-8537-264ea5b19eed",
   "metadata": {},
   "outputs": [
    {
     "name": "stdin",
     "output_type": "stream",
     "text": [
      "enter the length of the rectangle:  4.7\n",
      "enter the width of the rectangle:  3.4\n"
     ]
    },
    {
     "name": "stdout",
     "output_type": "stream",
     "text": [
      "The area of the rectangle with length 4.7 and width 3.4 is 15.98\n"
     ]
    }
   ],
   "source": [
    "#length and width from the user\n",
    "length = float(input(\"enter the length of the rectangle: \"))\n",
    "width = float(input(\"enter the width of the rectangle: \"))\n",
    "#calculate the area of rectangle\n",
    "area = length * width\n",
    "#display the result\n",
    "print(f\"The area of the rectangle with length {length} and width {width} is {area}\")\n"
   ]
  },
  {
   "cell_type": "code",
   "execution_count": 18,
   "id": "0303bde5-7052-4a41-9c92-28d143131632",
   "metadata": {},
   "outputs": [
    {
     "name": "stdin",
     "output_type": "stream",
     "text": [
      "enter the celsius:  22.4\n"
     ]
    },
    {
     "name": "stdout",
     "output_type": "stream",
     "text": [
      "22.4 degrees Celsius is equal to 72.32 degrees Fahrenheit\n"
     ]
    }
   ],
   "source": [
    "#get the celsius from the user\n",
    "celsius = float(input(\"enter the celsius: \"))\n",
    "#convert the celsius into farhenheit\n",
    "fahrenheit = (celsius * 9/5) + 32\n",
    "#display the result\n",
    "print(f\"{celsius} degrees Celsius is equal to {fahrenheit} degrees Fahrenheit\")"
   ]
  },
  {
   "cell_type": "code",
   "execution_count": 1,
   "id": "ca953ef2-ce4c-4070-a980-1070f9dd1c17",
   "metadata": {},
   "outputs": [],
   "source": [
    "#strings"
   ]
  },
  {
   "cell_type": "code",
   "execution_count": 2,
   "id": "f26e6203-e1c3-4f85-adfb-5a4bbdf02867",
   "metadata": {},
   "outputs": [
    {
     "name": "stdin",
     "output_type": "stream",
     "text": [
      "Enter a string:  pwskills datascience\n"
     ]
    },
    {
     "name": "stdout",
     "output_type": "stream",
     "text": [
      "The length of the string is: 20\n"
     ]
    }
   ],
   "source": [
    "# Get a string as input from the user\n",
    "input_string = input(\"Enter a string: \")\n",
    "# Calculate the length of the string\n",
    "string_length = len(input_string)\n",
    "# Display the length of the string\n",
    "print(\"The length of the string is:\", string_length)"
   ]
  },
  {
   "cell_type": "code",
   "execution_count": 1,
   "id": "8814e8d6-f541-40a7-bf7a-83e7c5328a70",
   "metadata": {},
   "outputs": [
    {
     "name": "stdin",
     "output_type": "stream",
     "text": [
      "enter a sentence:  my dream destination is paris\n"
     ]
    },
    {
     "name": "stdout",
     "output_type": "stream",
     "text": [
      "The number of vowels in the sentence is: 10\n"
     ]
    }
   ],
   "source": [
    "#get a sentence as input from the user\n",
    "sentence = input(\"enter a sentence: \")\n",
    "\n",
    "#convert the sentence into lowewrcase to make it case-insensitive\n",
    "sentence = sentence.lower()\n",
    "\n",
    "#intialize a variable to count the vowels\n",
    "vowel_count = 0\n",
    "\n",
    "#iterate through each character in the sentence\n",
    "for char in sentence:\n",
    "    if char in 'aeiou':\n",
    "        vowel_count += 1\n",
    "        \n",
    "# Display the vowel count\n",
    "print(f\"The number of vowels in the sentence is: {vowel_count}\")"
   ]
  },
  {
   "cell_type": "code",
   "execution_count": 6,
   "id": "a0b6b85f-4dce-417a-8518-187f846961be",
   "metadata": {},
   "outputs": [
    {
     "name": "stdin",
     "output_type": "stream",
     "text": [
      "Enter a string:  geomorphism\n"
     ]
    },
    {
     "name": "stdout",
     "output_type": "stream",
     "text": [
      "Reversed string: msihpromoeg\n"
     ]
    }
   ],
   "source": [
    "# Get a string as input from the user\n",
    "input_string = input(\"Enter a string: \")\n",
    "\n",
    "# Reverse the string using slicing\n",
    "reversed_string = input_string[::-1]\n",
    "\n",
    "# Display the reversed string\n",
    "print(\"Reversed string:\", reversed_string)"
   ]
  },
  {
   "cell_type": "code",
   "execution_count": 7,
   "id": "ab47474c-8878-4f34-976d-ccf5ba0bfa7e",
   "metadata": {},
   "outputs": [
    {
     "name": "stdin",
     "output_type": "stream",
     "text": [
      "Enter a string:  sees\n"
     ]
    },
    {
     "name": "stdout",
     "output_type": "stream",
     "text": [
      "The entered string is a palindrome.\n"
     ]
    }
   ],
   "source": [
    "# Get a string as input from the user\n",
    "input_string = input(\"Enter a string: \")\n",
    "\n",
    "# Remove spaces and convert the string to lowercase for case-insensitive comparison\n",
    "input_string = input_string.replace(\" \", \"\").lower()\n",
    "\n",
    "# Check if the string is a palindrome\n",
    "if input_string == input_string[::-1]:\n",
    "    print(\"The entered string is a palindrome.\")\n",
    "else:\n",
    "    print(\"The entered string is not a palindrome.\")"
   ]
  },
  {
   "cell_type": "code",
   "execution_count": 8,
   "id": "b93630b9-ad2c-49ae-8acd-d282b5de1ad5",
   "metadata": {},
   "outputs": [
    {
     "name": "stdin",
     "output_type": "stream",
     "text": [
      "Enter a string:  dna is double stranded molecule made of nucliec acids\n"
     ]
    },
    {
     "name": "stdout",
     "output_type": "stream",
     "text": [
      "Modified string without spaces: dnaisdoublestrandedmoleculemadeofnucliecacids\n"
     ]
    }
   ],
   "source": [
    "# Get a string as input from the user\n",
    "input_string = input(\"Enter a string: \")\n",
    "\n",
    "# Remove spaces from the string\n",
    "modified_string = input_string.replace(\" \", \"\")\n",
    "\n",
    "# Display the modified string without spaces\n",
    "print(\"Modified string without spaces:\", modified_string)"
   ]
  },
  {
   "cell_type": "code",
   "execution_count": null,
   "id": "6b8024e8-7439-498a-9c98-71489e439ac1",
   "metadata": {},
   "outputs": [],
   "source": []
  }
 ],
 "metadata": {
  "kernelspec": {
   "display_name": "Python 3 (ipykernel)",
   "language": "python",
   "name": "python3"
  },
  "language_info": {
   "codemirror_mode": {
    "name": "ipython",
    "version": 3
   },
   "file_extension": ".py",
   "mimetype": "text/x-python",
   "name": "python",
   "nbconvert_exporter": "python",
   "pygments_lexer": "ipython3",
   "version": "3.10.8"
  }
 },
 "nbformat": 4,
 "nbformat_minor": 5
}
